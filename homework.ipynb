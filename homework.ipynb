{
 "cells": [
  {
   "cell_type": "code",
   "execution_count": 19,
   "metadata": {},
   "outputs": [],
   "source": [
    "from datasets import load_dataset\n",
    "import pandas as pd\n",
    "from tqdm import tqdm\n",
    "import os\n",
    "import openai\n",
    "from dotenv import load_dotenv\n",
    "load_dotenv()\n",
    "\n",
    "openai.api_key = os.getenv(\"OPENAI_API_KEY\")"
   ]
  },
  {
   "cell_type": "code",
   "execution_count": 48,
   "metadata": {},
   "outputs": [
    {
     "name": "stderr",
     "output_type": "stream",
     "text": [
      "Found cached dataset boolq (C:/Users/joshn/.cache/huggingface/datasets/boolq/default/0.1.0/bf0dd57da941c50de94ae3ce3cef7fea48c08f337a4b7aac484e9dddc5aa24e5)\n",
      "100%|██████████| 2/2 [00:00<00:00, 666.24it/s]\n"
     ]
    }
   ],
   "source": [
    "dataset = load_dataset(\"boolq\")"
   ]
  },
  {
   "cell_type": "code",
   "execution_count": 71,
   "metadata": {},
   "outputs": [
    {
     "name": "stderr",
     "output_type": "stream",
     "text": [
      "100%|██████████| 10/10 [00:00<00:00, 128.21ba/s]\n",
      "100%|██████████| 10/10 [00:00<00:00, 135.13ba/s]\n"
     ]
    },
    {
     "data": {
      "text/html": [
       "<div>\n",
       "<style scoped>\n",
       "    .dataframe tbody tr th:only-of-type {\n",
       "        vertical-align: middle;\n",
       "    }\n",
       "\n",
       "    .dataframe tbody tr th {\n",
       "        vertical-align: top;\n",
       "    }\n",
       "\n",
       "    .dataframe thead th {\n",
       "        text-align: right;\n",
       "    }\n",
       "</style>\n",
       "<table border=\"1\" class=\"dataframe\">\n",
       "  <thead>\n",
       "    <tr style=\"text-align: right;\">\n",
       "      <th></th>\n",
       "      <th>question</th>\n",
       "      <th>answer</th>\n",
       "      <th>passage</th>\n",
       "    </tr>\n",
       "  </thead>\n",
       "  <tbody>\n",
       "    <tr>\n",
       "      <th>0</th>\n",
       "      <td>is cognitive therapy the same as cognitive beh...</td>\n",
       "      <td>False</td>\n",
       "      <td>Cognitive therapy (CT) is a type of psychother...</td>\n",
       "    </tr>\n",
       "    <tr>\n",
       "      <th>1</th>\n",
       "      <td>is pittsburgh the only burgh with an h</td>\n",
       "      <td>False</td>\n",
       "      <td>The name of the city of Pittsburgh, Pennsylvan...</td>\n",
       "    </tr>\n",
       "    <tr>\n",
       "      <th>2</th>\n",
       "      <td>do you have to use cure when making sausage</td>\n",
       "      <td>False</td>\n",
       "      <td>Sausages come in two main types: fresh and cur...</td>\n",
       "    </tr>\n",
       "    <tr>\n",
       "      <th>3</th>\n",
       "      <td>are dr martens and doc martens the same</td>\n",
       "      <td>True</td>\n",
       "      <td>Dr. Martens is a British footwear and clothing...</td>\n",
       "    </tr>\n",
       "    <tr>\n",
       "      <th>4</th>\n",
       "      <td>is there such a thing as a black eagle</td>\n",
       "      <td>True</td>\n",
       "      <td>The black eagle is a large but slender eagle, ...</td>\n",
       "    </tr>\n",
       "    <tr>\n",
       "      <th>5</th>\n",
       "      <td>was the movie man on fire a true story</td>\n",
       "      <td>False</td>\n",
       "      <td>Man on Fire is a 2004 British-American crime t...</td>\n",
       "    </tr>\n",
       "    <tr>\n",
       "      <th>6</th>\n",
       "      <td>does florida constitution have a bill of rights</td>\n",
       "      <td>True</td>\n",
       "      <td>The first article of the Florida Constitution ...</td>\n",
       "    </tr>\n",
       "    <tr>\n",
       "      <th>7</th>\n",
       "      <td>is there going to be a season 5 of jane the ve...</td>\n",
       "      <td>True</td>\n",
       "      <td>On April 2, 2018, The CW renewed the series fo...</td>\n",
       "    </tr>\n",
       "  </tbody>\n",
       "</table>\n",
       "</div>"
      ],
      "text/plain": [
       "                                            question  answer  \\\n",
       "0  is cognitive therapy the same as cognitive beh...   False   \n",
       "1             is pittsburgh the only burgh with an h   False   \n",
       "2        do you have to use cure when making sausage   False   \n",
       "3            are dr martens and doc martens the same    True   \n",
       "4             is there such a thing as a black eagle    True   \n",
       "5             was the movie man on fire a true story   False   \n",
       "6    does florida constitution have a bill of rights    True   \n",
       "7  is there going to be a season 5 of jane the ve...    True   \n",
       "\n",
       "                                             passage  \n",
       "0  Cognitive therapy (CT) is a type of psychother...  \n",
       "1  The name of the city of Pittsburgh, Pennsylvan...  \n",
       "2  Sausages come in two main types: fresh and cur...  \n",
       "3  Dr. Martens is a British footwear and clothing...  \n",
       "4  The black eagle is a large but slender eagle, ...  \n",
       "5  Man on Fire is a 2004 British-American crime t...  \n",
       "6  The first article of the Florida Constitution ...  \n",
       "7  On April 2, 2018, The CW renewed the series fo...  "
      ]
     },
     "execution_count": 71,
     "metadata": {},
     "output_type": "execute_result"
    }
   ],
   "source": [
    "dataset_train_subset = dataset['train']\n",
    "dataset = dataset.shuffle()\n",
    "\n",
    "dataset_train = dataset['train']\n",
    "dataset_test = dataset['validation'][:30]\n",
    "\n",
    "# Get the first 4 trues and 4 falses\n",
    "dataset_train_true = dataset_train.filter(lambda example: example['answer'] == True).select(range(4)).to_pandas()\n",
    "dataset_train_false = dataset_train.filter(lambda example: example['answer'] == False).select(range(4)).to_pandas()\n",
    "\n",
    "# Interleave the two datasets\n",
    "dataset_train = pd.concat([dataset_train_true, dataset_train_false]).sample(frac=1).reset_index(drop=True)\n",
    "\n",
    "dataset_train"
   ]
  },
  {
   "cell_type": "code",
   "execution_count": 72,
   "metadata": {},
   "outputs": [
    {
     "name": "stdout",
     "output_type": "stream",
     "text": [
      "Question: is cognitive therapy the same as cognitive behavioural therapy\n",
      "Answer: False\n",
      "Question: is pittsburgh the only burgh with an h\n",
      "Answer: False\n",
      "Question: do you have to use cure when making sausage\n",
      "Answer: False\n",
      "Question: are dr martens and doc martens the same\n",
      "Answer: True\n",
      "Question: is there such a thing as a black eagle\n",
      "Answer: True\n",
      "Question: was the movie man on fire a true story\n",
      "Answer: False\n",
      "Question: does florida constitution have a bill of rights\n",
      "Answer: True\n",
      "Question: is there going to be a season 5 of jane the vergin\n",
      "Answer: True\n",
      "\n"
     ]
    }
   ],
   "source": [
    "# Create the prompt\n",
    "prompt = \"\".join([f\"Question: {question}\\nAnswer: {answer}\\n\" for question, answer in zip(dataset_train['question'], dataset_train['answer'])])\n",
    "print(prompt)\n"
   ]
  },
  {
   "cell_type": "code",
   "execution_count": 51,
   "metadata": {},
   "outputs": [
    {
     "name": "stderr",
     "output_type": "stream",
     "text": [
      "100%|██████████| 30/30 [00:13<00:00,  2.20it/s]\n"
     ]
    }
   ],
   "source": [
    "responses = []\n",
    "\n",
    "for question in tqdm(dataset_test['question']):\n",
    "    response = openai.Completion.create(\n",
    "        model=\"text-davinci-003\",\n",
    "        prompt=prompt + f\"Question: {question}\",\n",
    "        temperature=0.7,\n",
    "        max_tokens=1000,\n",
    "        top_p=1,\n",
    "        frequency_penalty=0,\n",
    "        presence_penalty=0\n",
    "      )\n",
    "    \n",
    "    responses.append(response.choices[0].text)"
   ]
  },
  {
   "cell_type": "code",
   "execution_count": 52,
   "metadata": {},
   "outputs": [
    {
     "name": "stdout",
     "output_type": "stream",
     "text": [
      "Answer: False\n",
      "Answer: True\n",
      "Answer: True\n",
      "Answer: True\n",
      "Answer: True\n",
      "Answer: False\n",
      "Answer: True\n",
      "Answer: True\n",
      "Answer: False\n",
      "Answer: True\n"
     ]
    }
   ],
   "source": [
    "# Print out last line of each response\n",
    "for r in responses[:10]:\n",
    "    print(r.splitlines()[-1])"
   ]
  },
  {
   "cell_type": "code",
   "execution_count": 53,
   "metadata": {},
   "outputs": [
    {
     "name": "stdout",
     "output_type": "stream",
     "text": [
      "OpenAI Accuracy: 0.8\n"
     ]
    }
   ],
   "source": [
    "answers = [r.endswith(\"True\") for r in responses]\n",
    "\n",
    "# Calculate accuracy\n",
    "accuracy = sum([a == b for a, b in zip(answers, dataset_test['answer'])]) / len(answers)\n",
    "\n",
    "print(f\"OpenAI Accuracy: {accuracy}\")"
   ]
  },
  {
   "cell_type": "code",
   "execution_count": 54,
   "metadata": {},
   "outputs": [],
   "source": [
    "# Now we do the same with BLOOMZ\n",
    "\n",
    "from transformers import AutoModelForCausalLM, AutoTokenizer\n",
    "import json\n",
    "import requests"
   ]
  },
  {
   "cell_type": "code",
   "execution_count": 56,
   "metadata": {},
   "outputs": [],
   "source": [
    "headers = {\n",
    "    \"Authorization\": f\"Bearer {os.getenv('HF_API_KEY')}\", \n",
    "    \"Content-Type\": \"application/json\"\n",
    "}\n",
    "API_URL = \"https://api-inference.huggingface.co/models/bigscience/bloomz\"\n",
    "\n",
    "def query(payload):\n",
    "    data = json.dumps(payload)\n",
    "    response = requests.request(\"POST\", API_URL, headers=headers, data=data)\n",
    "    return json.loads(response.content.decode(\"utf-8\"))"
   ]
  },
  {
   "cell_type": "code",
   "execution_count": 66,
   "metadata": {},
   "outputs": [
    {
     "name": "stderr",
     "output_type": "stream",
     "text": [
      "100%|██████████| 100/100 [00:04<00:00, 21.11it/s]\n"
     ]
    }
   ],
   "source": [
    "b_dataset_test = dataset['validation'][:100]\n",
    "\n",
    "b_responses = []\n",
    "for question in tqdm(b_dataset_test['question']):\n",
    "    response = query({\n",
    "        \"inputs\": prompt + f\"Question: {question}\",\n",
    "        \"parameters\": {\n",
    "            \"temperature\": 0.7,\n",
    "            \"max_new_tokens\": 1000,\n",
    "            \"frequency_penalty\": 0,\n",
    "            \"presence_penalty\": 0\n",
    "        }\n",
    "    })\n",
    "\n",
    "    b_responses.append(response[0]['generated_text'])"
   ]
  },
  {
   "cell_type": "code",
   "execution_count": 67,
   "metadata": {},
   "outputs": [
    {
     "name": "stdout",
     "output_type": "stream",
     "text": [
      "Question: is the first wives club based on a true story False\n",
      "Question: is the tv show the 100 still on False\n",
      "Question: is a dogfish part of the shark family False\n",
      "Question: does maple syrup come out of the tree sweet False\n",
      "Question: is there a new kung fu panda coming out False\n",
      "Question: was a real lykan used in furious 7 False\n",
      "Question: is anne with an e filmed on pei False\n",
      "Question: is there a state where the drinking age is 18 False\n",
      "Question: is there such thing as a blue ruby False\n",
      "Question: can hydrogen be used in a combustion engine False\n"
     ]
    }
   ],
   "source": [
    "# Print out last line of each response\n",
    "for r in b_responses[:10]:\n",
    "    print(r.splitlines()[-1])"
   ]
  },
  {
   "cell_type": "code",
   "execution_count": 68,
   "metadata": {},
   "outputs": [
    {
     "name": "stdout",
     "output_type": "stream",
     "text": [
      "Bloomz Accuracy: 0.11\n"
     ]
    }
   ],
   "source": [
    "answers = [r.endswith(\"True\") for r in b_responses]\n",
    "\n",
    "# Calculate accuracy\n",
    "accuracy = sum([a == b for a, b in zip(answers, dataset_test['answer'])]) / len(answers)\n",
    "\n",
    "print(f\"Bloomz Accuracy: {accuracy}\")"
   ]
  }
 ],
 "metadata": {
  "kernelspec": {
   "display_name": "nlp-class",
   "language": "python",
   "name": "python3"
  },
  "language_info": {
   "codemirror_mode": {
    "name": "ipython",
    "version": 3
   },
   "file_extension": ".py",
   "mimetype": "text/x-python",
   "name": "python",
   "nbconvert_exporter": "python",
   "pygments_lexer": "ipython3",
   "version": "3.9.13"
  },
  "orig_nbformat": 4,
  "vscode": {
   "interpreter": {
    "hash": "1dc072352892759141eb0b92a0fbb5b316ee9cc56b5ad50eea895fbcaf97f947"
   }
  }
 },
 "nbformat": 4,
 "nbformat_minor": 2
}
